{
 "cells": [
  {
   "cell_type": "code",
   "execution_count": 1,
   "metadata": {
    "collapsed": false
   },
   "outputs": [
    {
     "name": "stderr",
     "output_type": "stream",
     "text": [
      "/usr/local/lib/python2.7/dist-packages/matplotlib/font_manager.py:273: UserWarning: Matplotlib is building the font cache using fc-list. This may take a moment.\n",
      "  warnings.warn('Matplotlib is building the font cache using fc-list. This may take a moment.')\n"
     ]
    }
   ],
   "source": [
    "%matplotlib inline\n",
    "\n",
    "from __future__ import absolute_import\n",
    "from __future__ import division\n",
    "from __future__ import print_function\n",
    "\n",
    "import collections\n",
    "import math\n",
    "import os\n",
    "import time\n",
    "import random\n",
    "import zipfile\n",
    "\n",
    "import numpy as np\n",
    "from six.moves import urllib\n",
    "from six.moves import xrange  # pylint: disable=redefined-builtin\n",
    "import tensorflow as tf\n",
    "from matplotlib import pylab"
   ]
  },
  {
   "cell_type": "markdown",
   "metadata": {},
   "source": [
    "## Step 1: Download the Data"
   ]
  },
  {
   "cell_type": "code",
   "execution_count": 2,
   "metadata": {
    "collapsed": false
   },
   "outputs": [
    {
     "name": "stdout",
     "output_type": "stream",
     "text": [
      "Found and verified text8.zip\n"
     ]
    }
   ],
   "source": [
    "url = 'http://mattmahoney.net/dc/'\n",
    "\n",
    "\n",
    "def maybe_download(filename, expected_bytes):\n",
    "    \"\"\"Download a file if not present, and make sure it's the right size.\"\"\"\n",
    "    if not os.path.exists(filename):\n",
    "        filename, _ = urllib.request.urlretrieve(url + filename, filename)\n",
    "        statinfo = os.stat(filename)\n",
    "        if statinfo.st_size == expected_bytes:\n",
    "            print('Found and verified', filename)\n",
    "        else:\n",
    "            print(statinfo.st_size)\n",
    "            raise Exception(\n",
    "                'Failed to verify {}. \\\n",
    "                Can you get to it with a browser?'.format(\n",
    "                    filename\n",
    "                )\n",
    "            )\n",
    "    return filename\n",
    "\n",
    "filename = maybe_download('text8.zip', 31344016)"
   ]
  },
  {
   "cell_type": "markdown",
   "metadata": {},
   "source": [
    "### Read the data into a list of strings"
   ]
  },
  {
   "cell_type": "code",
   "execution_count": 3,
   "metadata": {
    "collapsed": false
   },
   "outputs": [
    {
     "name": "stdout",
     "output_type": "stream",
     "text": [
      "Data size 17005207\n"
     ]
    }
   ],
   "source": [
    "def read_data(filename):\n",
    "    \"\"\"Extract the first file enclosed in a zip file as a list of words\"\"\"\n",
    "    with zipfile.ZipFile(filename) as f:\n",
    "        data = f.read(f.namelist()[0]).split()\n",
    "    return data\n",
    "\n",
    "words = read_data(filename)\n",
    "print('Data size', len(words))"
   ]
  },
  {
   "cell_type": "markdown",
   "metadata": {},
   "source": [
    "## Step 2: Build the dictionary and replace rare words with UNK token"
   ]
  },
  {
   "cell_type": "code",
   "execution_count": 4,
   "metadata": {
    "collapsed": false
   },
   "outputs": [
    {
     "name": "stdout",
     "output_type": "stream",
     "text": [
      "Most common words (+UNK) [['UNK', 418391], ('the', 1061396), ('of', 593677), ('and', 416629), ('one', 411764)]\n",
      "Sample data [5239, 3084, 12, 6, 195, 2, 3137, 46, 59, 156] ['anarchism', 'originated', 'as', 'a', 'term', 'of', 'abuse', 'first', 'used', 'against']\n"
     ]
    }
   ],
   "source": [
    "vocabulary_size = 50000\n",
    "\n",
    "\n",
    "def build_dataset(words):\n",
    "    count = [['UNK', -1]]\n",
    "    count.extend(collections.Counter(words).most_common(vocabulary_size - 1))\n",
    "    dictionary = dict()\n",
    "    for word, _ in count:\n",
    "        dictionary[word] = len(dictionary)\n",
    "    data = list()\n",
    "    unk_count = 0\n",
    "    for word in words:\n",
    "        if word in dictionary:\n",
    "            index = dictionary[word]\n",
    "        else:\n",
    "            index = 0  # dictionary['UNK']\n",
    "            unk_count += 1\n",
    "        data.append(index)\n",
    "    count[0][1] = unk_count\n",
    "    reverse_dictionary = dict(zip(dictionary.values(), dictionary.keys()))\n",
    "    return data, count, dictionary, reverse_dictionary\n",
    "\n",
    "data, count, dictionary, reverse_dictionary = build_dataset(words)\n",
    "del words  # Hint to reduce memory.\n",
    "print('Most common words (+UNK)', count[:5])\n",
    "print('Sample data', data[:10], [reverse_dictionary[i] for i in data[:10]])\n",
    "\n",
    "data_index = 0"
   ]
  },
  {
   "cell_type": "markdown",
   "metadata": {},
   "source": [
    "## Step 3: Function to generate a training batch for the skip-gram model"
   ]
  },
  {
   "cell_type": "code",
   "execution_count": 5,
   "metadata": {
    "collapsed": false
   },
   "outputs": [
    {
     "name": "stdout",
     "output_type": "stream",
     "text": [
      "3084 originated -> 5239 anarchism\n",
      "3084 originated -> 12 as\n",
      "12 as -> 3084 originated\n",
      "12 as -> 6 a\n",
      "6 a -> 195 term\n",
      "6 a -> 12 as\n",
      "195 term -> 6 a\n",
      "195 term -> 2 of\n"
     ]
    }
   ],
   "source": [
    "def generate_batch(batch_size, num_skips, skip_window):\n",
    "    global data_index\n",
    "    assert batch_size % num_skips == 0\n",
    "    assert num_skips <= 2 * skip_window\n",
    "    batch = np.ndarray(shape=(batch_size), dtype=np.int32)\n",
    "    labels = np.ndarray(shape=(batch_size, 1), dtype=np.int32)\n",
    "    span = 2 * skip_window + 1  # [ skip_window target skip_window ]\n",
    "    buffer = collections.deque(maxlen=span)\n",
    "    for _ in range(span):\n",
    "        buffer.append(data[data_index])\n",
    "        data_index = (data_index + 1) % len(data)\n",
    "    for i in range(batch_size // num_skips):\n",
    "        target = skip_window  # target label at the center of the buffer\n",
    "        targets_to_avoid = [skip_window]\n",
    "        for j in range(num_skips):\n",
    "            while target in targets_to_avoid:\n",
    "                target = random.randint(0, span - 1)\n",
    "            targets_to_avoid.append(target)\n",
    "            batch[i * num_skips + j] = buffer[skip_window]\n",
    "            labels[i * num_skips + j, 0] = buffer[target]\n",
    "        buffer.append(data[data_index])\n",
    "        data_index = (data_index + 1) % len(data)\n",
    "    return batch, labels\n",
    "\n",
    "batch, labels = generate_batch(batch_size=8, num_skips=2, skip_window=1)\n",
    "for i in range(8):\n",
    "    print(\n",
    "        batch[i],\n",
    "        reverse_dictionary[batch[i]],\n",
    "        '->',\n",
    "        labels[i, 0],\n",
    "        reverse_dictionary[labels[i, 0]]\n",
    "    )"
   ]
  },
  {
   "cell_type": "markdown",
   "metadata": {},
   "source": [
    "## Step 4: Build and train a skip-gram model"
   ]
  },
  {
   "cell_type": "markdown",
   "metadata": {},
   "source": [
    "### Fetch the cluster definition"
   ]
  },
  {
   "cell_type": "code",
   "execution_count": 6,
   "metadata": {
    "collapsed": false
   },
   "outputs": [
    {
     "name": "stdout",
     "output_type": "stream",
     "text": [
      "{'ps': ['ps-0.default.svc.cluster.local:8080', 'ps-1.default.svc.cluster.local:8080'], 'worker': ['worker-0.default.svc.cluster.local:8080', 'worker-1.default.svc.cluster.local:8080', 'worker-2.default.svc.cluster.local:8080', 'worker-3.default.svc.cluster.local:8080', 'worker-4.default.svc.cluster.local:8080', 'worker-5.default.svc.cluster.local:8080', 'worker-6.default.svc.cluster.local:8080', 'worker-7.default.svc.cluster.local:8080'], 'master': ['master-0.default.svc.cluster.local:8080']}\n"
     ]
    }
   ],
   "source": [
    "import ast\n",
    "\n",
    "cluster_config = ast.literal_eval(os.environ.get('CLUSTER_CONFIG'))\n",
    "cluster_spec = tf.train.ClusterSpec(cluster_config)\n",
    "workers = ['/job:worker/task:{}'.format(i) for i in range(len(cluster_config['worker']))]\n",
    "param_servers = ['/job:ps/task:{}'.format(i) for i in range(len(cluster_config['ps']))]\n",
    "\n",
    "print(cluster_config)"
   ]
  },
  {
   "cell_type": "markdown",
   "metadata": {},
   "source": [
    "### Define Hyperparameters and validation set"
   ]
  },
  {
   "cell_type": "code",
   "execution_count": 10,
   "metadata": {
    "collapsed": true
   },
   "outputs": [],
   "source": [
    "batch_size = 128\n",
    "embedding_size = 128  # Dimension of the embedding vector.\n",
    "skip_window = 1       # How many words to consider left and right.\n",
    "num_skips = 2         # How many times to reuse an input to generate a label.\n",
    "\n",
    "# We pick a random validation set to sample nearest neighbors. Here we limit\n",
    "# validation samples to the words that have a low numeric ID, which by\n",
    "# construction are also the most frequent.\n",
    "valid_size = 16     # Random set of words to evaluate similarity on.\n",
    "valid_window = 100  # Only pick dev samples in the head of the distribution.\n",
    "valid_examples = np.random.choice(valid_window, valid_size, replace=False)\n",
    "num_sampled = 64    # Number of negative examples to sample."
   ]
  },
  {
   "cell_type": "markdown",
   "metadata": {},
   "source": [
    "### Build the model"
   ]
  },
  {
   "cell_type": "code",
   "execution_count": 14,
   "metadata": {
    "collapsed": false
   },
   "outputs": [
    {
     "name": "stdout",
     "output_type": "stream",
     "text": [
      "Graph Definition Complete\n"
     ]
    }
   ],
   "source": [
    "graph = tf.Graph()\n",
    "with graph.as_default():\n",
    "    valid_dataset = tf.constant(valid_examples, dtype=tf.int32)\n",
    "\n",
    "    # Input data.\n",
    "    train_inputs = tf.placeholder(tf.int32, shape=[batch_size])\n",
    "    train_labels = tf.placeholder(tf.int32, shape=[batch_size, 1])\n",
    "\n",
    "    # Make one minibatch of data for each worker\n",
    "    train_inputs_list = tf.split(0, len(workers), train_inputs)\n",
    "    train_labels_list = tf.split(0, len(workers), train_labels)\n",
    "\n",
    "\n",
    "    # Create a variable embedding for each parameter server\n",
    "    embeddings = []\n",
    "    for ps in param_servers:\n",
    "        with tf.device(ps):\n",
    "            embeddings.append(\n",
    "                tf.Variable(tf.random_uniform(\n",
    "                    [vocabulary_size, embedding_size],\n",
    "                    -1.0,\n",
    "                    1.0\n",
    "                ))\n",
    "            )\n",
    "\n",
    "    with tf.device(tf.train.replica_device_setter(cluster=cluster_spec)):\n",
    "        # Construct the variables for the NCE loss\n",
    "        nce_weights = tf.Variable(\n",
    "            tf.truncated_normal([vocabulary_size, embedding_size],\n",
    "                                stddev=1.0 / math.sqrt(embedding_size)))\n",
    "        nce_biases = tf.Variable(tf.zeros([vocabulary_size]))\n",
    "        global_step = tf.Variable(0)\n",
    "\n",
    "    losses = []\n",
    "    summaries = []\n",
    "    # Assign computational tasks to each worker\n",
    "    for worker in workers:\n",
    "        with tf.device(worker):\n",
    "            # Look up embeddings for inputs.\n",
    "            embed = tf.nn.embedding_lookup(embeddings, train_inputs_list[i])\n",
    "            # Compute the average NCE loss for the batch.\n",
    "            # tf.nce_loss automatically draws a new sample of the negative\n",
    "            # labels each time we evaluate the loss.\n",
    "            loss = tf.reduce_mean(\n",
    "                tf.nn.nce_loss(nce_weights, nce_biases, embed, train_labels_list[i],\n",
    "                               num_sampled, vocabulary_size))\n",
    "            losses.append(loss)\n",
    "            summaries.append(tf.scalar_summary(\"loss-{}\".format(i), loss))\n",
    "\n",
    "\n",
    "    average_loss_op = tf.add_n(losses) / tf.convert_to_tensor(len(losses), dtype=tf.float32)\n",
    "    # Construct the SGD optimizer using a learning rate of 1.0.\n",
    "    train_op = tf.train.GradientDescentOptimizer(1.0).minimize(\n",
    "        average_loss_op, global_step=global_step)\n",
    "\n",
    "    summaries.append(tf.scalar_summary(\"average-loss\", average_loss_op))\n",
    "    summary_op = tf.merge_summary(summaries)\n",
    "    init_op = tf.initialize_all_variables()\n",
    "\n",
    "    # Compute the cosine similarity between minibatch examples\n",
    "    # and the embeddings\n",
    "    average_embeddings = tf.add_n(embeddings) / tf.convert_to_tensor(\n",
    "        num_param_servers, dtype=tf.float32)\n",
    "\n",
    "    norm = tf.sqrt(tf.reduce_sum(\n",
    "               tf.square(average_embeddings), 1, keep_dims=True))\n",
    "    normalized_embeddings = average_embeddings / norm\n",
    "    valid_embeddings = tf.nn.embedding_lookup(average_embeddings, valid_dataset)\n",
    "    similarity = tf.matmul(\n",
    "        valid_embeddings, normalized_embeddings, transpose_b=True)\n",
    "\n",
    "print(\"Graph Definition Complete\")\n",
    "        "
   ]
  },
  {
   "cell_type": "markdown",
   "metadata": {},
   "source": [
    "## Step 5: Begin Training"
   ]
  },
  {
   "cell_type": "code",
   "execution_count": 15,
   "metadata": {
    "collapsed": false
   },
   "outputs": [
    {
     "name": "stdout",
     "output_type": "stream",
     "text": [
      "Initialized\n",
      "Average loss at step 78: 223.736462324 \t Steps/Second: 7.75543646841\n",
      "Average loss at step 174: 167.218321164 \t Steps/Second: 9.54764065473\n",
      "Average loss at step 268: 132.520086735 \t Steps/Second: 9.34776373957\n",
      "Average loss at step 366: 116.205240366 \t Steps/Second: 9.73413688239\n",
      "Average loss at step 467: 99.7131843945 \t Steps/Second: 9.99482932229\n",
      "Average loss at step 559: 93.5191544243 \t Steps/Second: 9.18974258926\n",
      "Average loss at step 655: 83.6149853865 \t Steps/Second: 9.51166696592\n",
      "Average loss at step 746: 76.4790954799 \t Steps/Second: 8.62713462053\n",
      "Average loss at step 841: 72.3257834585 \t Steps/Second: 9.3945556598\n",
      "Average loss at step 941: 66.2336590195 \t Steps/Second: 9.92015938464\n",
      "Average loss at step 1041: 62.3816848755 \t Steps/Second: 9.92704435252\n",
      "Average loss at step 1141: 52.8724767113 \t Steps/Second: 9.9333057886\n",
      "Average loss at step 1236: 51.1129007841 \t Steps/Second: 9.42554939947\n",
      "Average loss at step 1337: 50.0333931045 \t Steps/Second: 10.0172485732\n",
      "Average loss at step 1442: 39.7951391493 \t Steps/Second: 10.4245564363\n",
      "Average loss at step 1538: 38.0825635195 \t Steps/Second: 9.55484557828\n",
      "Average loss at step 1646: 41.1210539253 \t Steps/Second: 10.775160098\n",
      "Average loss at step 1754: 38.0184495891 \t Steps/Second: 10.7586031569\n",
      "Average loss at step 1848: 35.7023697305 \t Steps/Second: 9.35212633635\n",
      "Average loss at step 1943: 34.4450847877 \t Steps/Second: 9.49270309828\n",
      "Average loss at step 2038: 32.0552420767 \t Steps/Second: 9.41293219946\n",
      "Average loss at step 2137: 33.306657926 \t Steps/Second: 9.84982308627\n",
      "Average loss at step 2234: 33.626807321 \t Steps/Second: 9.60609928383\n",
      "Average loss at step 2326: 33.4745731146 \t Steps/Second: 9.14478922982\n",
      "Average loss at step 2427: 32.6432345173 \t Steps/Second: 10.048588449\n",
      "Average loss at step 2523: 29.436739713 \t Steps/Second: 9.56954781731\n",
      "Average loss at step 2619: 30.0150261621 \t Steps/Second: 9.5252014754\n",
      "Average loss at step 2719: 24.672537837 \t Steps/Second: 9.93670017908\n",
      "Average loss at step 2817: 26.0996246922 \t Steps/Second: 9.71675747089\n",
      "Average loss at step 2916: 24.2075646333 \t Steps/Second: 9.89846483436\n",
      "Average loss at step 3012: 22.0230755409 \t Steps/Second: 9.54173525315\n",
      "Average loss at step 3104: 19.1622119779 \t Steps/Second: 9.19074396572\n",
      "Average loss at step 3206: 22.5416624219 \t Steps/Second: 10.1657547477\n",
      "Average loss at step 3308: 20.3588343274 \t Steps/Second: 10.1717641235\n",
      "Average loss at step 3409: 21.2802097585 \t Steps/Second: 10.0130884423\n",
      "Average loss at step 3508: 20.8571614256 \t Steps/Second: 9.82388539645\n",
      "Average loss at step 3608: 17.1387067318 \t Steps/Second: 9.97498775929\n",
      "Average loss at step 3707: 17.6931224881 \t Steps/Second: 9.80649990674\n",
      "Average loss at step 3805: 19.4702582262 \t Steps/Second: 9.71640604604\n",
      "Average loss at step 3900: 20.6406469245 \t Steps/Second: 9.43176475618\n",
      "Average loss at step 3995: 19.0026799654 \t Steps/Second: 9.46579538787\n",
      "Average loss at step 4091: 21.8702940643 \t Steps/Second: 9.57339091509\n",
      "Average loss at step 4187: 19.163569664 \t Steps/Second: 9.57489750672\n",
      "Average loss at step 4282: 17.3587783111 \t Steps/Second: 9.41577488186\n",
      "Average loss at step 4379: 19.8510109518 \t Steps/Second: 9.61369775959\n",
      "Average loss at step 4478: 20.2294972063 \t Steps/Second: 9.86421553034\n",
      "Average loss at step 4577: 19.1323934806 \t Steps/Second: 9.87087408905\n",
      "Average loss at step 4679: 17.0927881867 \t Steps/Second: 10.1930920924\n",
      "Average loss at step 4783: 18.6549818287 \t Steps/Second: 10.3644633894\n",
      "Average loss at step 4885: 17.5522309098 \t Steps/Second: 10.1247518002\n",
      "Average loss at step 4982: 18.4873199414 \t Steps/Second: 9.65810794206\n",
      "Average loss at step 5078: 17.2641588897 \t Steps/Second: 9.55835148808\n",
      "Average loss at step 5173: 16.2261735314 \t Steps/Second: 9.48682368008\n",
      "Average loss at step 5269: 18.6133313626 \t Steps/Second: 9.56637619151\n",
      "Average loss at step 5368: 16.5717883881 \t Steps/Second: 9.84309698924\n",
      "Average loss at step 5463: 13.3469585971 \t Steps/Second: 9.45091110018\n",
      "Average loss at step 5561: 14.5652320774 \t Steps/Second: 9.79378884355\n",
      "Average loss at step 5661: 14.2317054272 \t Steps/Second: 9.94175911963\n",
      "Average loss at step 5758: 16.0197217637 \t Steps/Second: 9.45414402776\n",
      "Average loss at step 5855: 14.066418633 \t Steps/Second: 9.62541942164\n",
      "Average loss at step 5952: 16.7369694857 \t Steps/Second: 9.61025465501\n"
     ]
    },
    {
     "ename": "KeyboardInterrupt",
     "evalue": "",
     "output_type": "error",
     "traceback": [
      "\u001b[1;31m\u001b[0m",
      "\u001b[1;31mKeyboardInterrupt\u001b[0mTraceback (most recent call last)",
      "\u001b[1;32m<ipython-input-15-84f9fa53efb0>\u001b[0m in \u001b[0;36m<module>\u001b[1;34m()\u001b[0m\n\u001b[0;32m     25\u001b[0m         _, summary, average_loss, step = session.run(\n\u001b[0;32m     26\u001b[0m             \u001b[1;33m[\u001b[0m\u001b[0mtrain_op\u001b[0m\u001b[1;33m,\u001b[0m \u001b[0msummary_op\u001b[0m\u001b[1;33m,\u001b[0m \u001b[0maverage_loss_op\u001b[0m\u001b[1;33m,\u001b[0m \u001b[0mglobal_step\u001b[0m\u001b[1;33m]\u001b[0m\u001b[1;33m,\u001b[0m\u001b[1;33m\u001b[0m\u001b[0m\n\u001b[1;32m---> 27\u001b[1;33m             \u001b[0mfeed_dict\u001b[0m\u001b[1;33m=\u001b[0m\u001b[0mfeed_dict\u001b[0m\u001b[1;33m\u001b[0m\u001b[0m\n\u001b[0m\u001b[0;32m     28\u001b[0m         )\n\u001b[0;32m     29\u001b[0m \u001b[1;33m\u001b[0m\u001b[0m\n",
      "\u001b[1;32m/usr/local/lib/python2.7/dist-packages/tensorflow/python/client/session.pyc\u001b[0m in \u001b[0;36mrun\u001b[1;34m(self, fetches, feed_dict, options, run_metadata)\u001b[0m\n\u001b[0;32m    338\u001b[0m     \u001b[1;32mtry\u001b[0m\u001b[1;33m:\u001b[0m\u001b[1;33m\u001b[0m\u001b[0m\n\u001b[0;32m    339\u001b[0m       result = self._run(None, fetches, feed_dict, options_ptr,\n\u001b[1;32m--> 340\u001b[1;33m                          run_metadata_ptr)\n\u001b[0m\u001b[0;32m    341\u001b[0m       \u001b[1;32mif\u001b[0m \u001b[0mrun_metadata\u001b[0m\u001b[1;33m:\u001b[0m\u001b[1;33m\u001b[0m\u001b[0m\n\u001b[0;32m    342\u001b[0m         \u001b[0mproto_data\u001b[0m \u001b[1;33m=\u001b[0m \u001b[0mtf_session\u001b[0m\u001b[1;33m.\u001b[0m\u001b[0mTF_GetBuffer\u001b[0m\u001b[1;33m(\u001b[0m\u001b[0mrun_metadata_ptr\u001b[0m\u001b[1;33m)\u001b[0m\u001b[1;33m\u001b[0m\u001b[0m\n",
      "\u001b[1;32m/usr/local/lib/python2.7/dist-packages/tensorflow/python/client/session.pyc\u001b[0m in \u001b[0;36m_run\u001b[1;34m(self, handle, fetches, feed_dict, options, run_metadata)\u001b[0m\n\u001b[0;32m    562\u001b[0m     \u001b[1;32mtry\u001b[0m\u001b[1;33m:\u001b[0m\u001b[1;33m\u001b[0m\u001b[0m\n\u001b[0;32m    563\u001b[0m       results = self._do_run(handle, target_list, unique_fetches,\n\u001b[1;32m--> 564\u001b[1;33m                              feed_dict_string, options, run_metadata)\n\u001b[0m\u001b[0;32m    565\u001b[0m     \u001b[1;32mfinally\u001b[0m\u001b[1;33m:\u001b[0m\u001b[1;33m\u001b[0m\u001b[0m\n\u001b[0;32m    566\u001b[0m       \u001b[1;31m# The movers are no longer used. Delete them.\u001b[0m\u001b[1;33m\u001b[0m\u001b[1;33m\u001b[0m\u001b[0m\n",
      "\u001b[1;32m/usr/local/lib/python2.7/dist-packages/tensorflow/python/client/session.pyc\u001b[0m in \u001b[0;36m_do_run\u001b[1;34m(self, handle, target_list, fetch_list, feed_dict, options, run_metadata)\u001b[0m\n\u001b[0;32m    635\u001b[0m     \u001b[1;32mif\u001b[0m \u001b[0mhandle\u001b[0m \u001b[1;32mis\u001b[0m \u001b[0mNone\u001b[0m\u001b[1;33m:\u001b[0m\u001b[1;33m\u001b[0m\u001b[0m\n\u001b[0;32m    636\u001b[0m       return self._do_call(_run_fn, self._session, feed_dict, fetch_list,\n\u001b[1;32m--> 637\u001b[1;33m                            target_list, options, run_metadata)\n\u001b[0m\u001b[0;32m    638\u001b[0m     \u001b[1;32melse\u001b[0m\u001b[1;33m:\u001b[0m\u001b[1;33m\u001b[0m\u001b[0m\n\u001b[0;32m    639\u001b[0m       return self._do_call(_prun_fn, self._session, handle, feed_dict,\n",
      "\u001b[1;32m/usr/local/lib/python2.7/dist-packages/tensorflow/python/client/session.pyc\u001b[0m in \u001b[0;36m_do_call\u001b[1;34m(self, fn, *args)\u001b[0m\n\u001b[0;32m    642\u001b[0m   \u001b[1;32mdef\u001b[0m \u001b[0m_do_call\u001b[0m\u001b[1;33m(\u001b[0m\u001b[0mself\u001b[0m\u001b[1;33m,\u001b[0m \u001b[0mfn\u001b[0m\u001b[1;33m,\u001b[0m \u001b[1;33m*\u001b[0m\u001b[0margs\u001b[0m\u001b[1;33m)\u001b[0m\u001b[1;33m:\u001b[0m\u001b[1;33m\u001b[0m\u001b[0m\n\u001b[0;32m    643\u001b[0m     \u001b[1;32mtry\u001b[0m\u001b[1;33m:\u001b[0m\u001b[1;33m\u001b[0m\u001b[0m\n\u001b[1;32m--> 644\u001b[1;33m       \u001b[1;32mreturn\u001b[0m \u001b[0mfn\u001b[0m\u001b[1;33m(\u001b[0m\u001b[1;33m*\u001b[0m\u001b[0margs\u001b[0m\u001b[1;33m)\u001b[0m\u001b[1;33m\u001b[0m\u001b[0m\n\u001b[0m\u001b[0;32m    645\u001b[0m     \u001b[1;32mexcept\u001b[0m \u001b[0mtf_session\u001b[0m\u001b[1;33m.\u001b[0m\u001b[0mStatusNotOK\u001b[0m \u001b[1;32mas\u001b[0m \u001b[0me\u001b[0m\u001b[1;33m:\u001b[0m\u001b[1;33m\u001b[0m\u001b[0m\n\u001b[0;32m    646\u001b[0m       \u001b[0merror_message\u001b[0m \u001b[1;33m=\u001b[0m \u001b[0mcompat\u001b[0m\u001b[1;33m.\u001b[0m\u001b[0mas_text\u001b[0m\u001b[1;33m(\u001b[0m\u001b[0me\u001b[0m\u001b[1;33m.\u001b[0m\u001b[0merror_message\u001b[0m\u001b[1;33m)\u001b[0m\u001b[1;33m\u001b[0m\u001b[0m\n",
      "\u001b[1;32m/usr/local/lib/python2.7/dist-packages/tensorflow/python/client/session.pyc\u001b[0m in \u001b[0;36m_run_fn\u001b[1;34m(session, feed_dict, fetch_list, target_list, options, run_metadata)\u001b[0m\n\u001b[0;32m    626\u001b[0m       \u001b[1;32melse\u001b[0m\u001b[1;33m:\u001b[0m\u001b[1;33m\u001b[0m\u001b[0m\n\u001b[0;32m    627\u001b[0m         return tf_session.TF_Run(\n\u001b[1;32m--> 628\u001b[1;33m             session, None, feed_dict, fetch_list, target_list, None)\n\u001b[0m\u001b[0;32m    629\u001b[0m \u001b[1;33m\u001b[0m\u001b[0m\n\u001b[0;32m    630\u001b[0m     \u001b[1;32mdef\u001b[0m \u001b[0m_prun_fn\u001b[0m\u001b[1;33m(\u001b[0m\u001b[0msession\u001b[0m\u001b[1;33m,\u001b[0m \u001b[0mhandle\u001b[0m\u001b[1;33m,\u001b[0m \u001b[0mfeed_dict\u001b[0m\u001b[1;33m,\u001b[0m \u001b[0mfetch_list\u001b[0m\u001b[1;33m)\u001b[0m\u001b[1;33m:\u001b[0m\u001b[1;33m\u001b[0m\u001b[0m\n",
      "\u001b[1;31mKeyboardInterrupt\u001b[0m: "
     ]
    }
   ],
   "source": [
    "num_steps = 100000\n",
    "\n",
    "\n",
    "with tf.Session('grpc://localhost:8080', graph=graph) as session:\n",
    "    init_op.run()\n",
    "    print(\"Initialized\")\n",
    "\n",
    "    last_report_time = time.time()\n",
    "    last_report_step = 0\n",
    "    average_loss_total = 0\n",
    "    step = 0\n",
    "    timestamp = str(int(last_report_time))\n",
    "    log_dir = '/var/log/tensorflow/word2vec_basic/summaries/{}'.format(\n",
    "        timestamp)\n",
    "    summary_writer = tf.train.SummaryWriter(log_dir, graph=graph)\n",
    "\n",
    "    while step < num_steps:\n",
    "        batch_inputs, batch_labels = generate_batch(\n",
    "            batch_size, num_skips, skip_window)\n",
    "        feed_dict = {train_inputs: batch_inputs, train_labels: batch_labels}\n",
    "\n",
    "        # We perform one update step by evaluating the optimizer op\n",
    "        # Also evaluate the training summary op\n",
    "        # Average the workers' losses, and advance the global step\n",
    "        _, summary, average_loss, step = session.run(\n",
    "            [train_op, summary_op, average_loss_op, global_step],\n",
    "            feed_dict=feed_dict\n",
    "        )\n",
    "        \n",
    "        summary_writer.add_summary(summary, global_step=step)\n",
    "        average_loss_total += average_loss\n",
    "        cur_time = time.time()\n",
    "\n",
    "        if cur_time > last_report_time + 10:\n",
    "            # The average loss is an estimate of the loss over the last 2000\n",
    "            # batches.\n",
    "            steps = step - last_report_step\n",
    "            print(\"Average loss at step {}: {} \\t Steps/Second: {}\".format(\n",
    "                    step,\n",
    "                    average_loss_total / steps,\n",
    "                    steps / (cur_time - last_report_time)\n",
    "            ))\n",
    "            last_report_time = cur_time\n",
    "            last_report_step = step\n",
    "            average_loss_total = 0\n",
    "            \n",
    "            \n",
    "    print(\"   Nearest words:\")\n",
    "    sim = similarity.eval()\n",
    "    for i in xrange(valid_size):\n",
    "        valid_word = reverse_dictionary[valid_examples[i]]\n",
    "        top_k = 8  # number of nearest neighbors\n",
    "        nearest = (-sim[i, :]).argsort()[1:top_k+1]\n",
    "        print(\"      {}: {}\".format(\n",
    "            valid_word, ', '.join(\n",
    "                reverse_dictionary[nearest[k]] for k in range(top_k)\n",
    "            ))\n",
    "        )\n",
    "    final_embeddings = normalized_embeddings.eval()\n"
   ]
  },
  {
   "cell_type": "markdown",
   "metadata": {
    "collapsed": true
   },
   "source": [
    "### Step 6: Visualize the embeddings"
   ]
  },
  {
   "cell_type": "code",
   "execution_count": null,
   "metadata": {
    "collapsed": false
   },
   "outputs": [],
   "source": [
    "def plot_with_labels(low_dim_embs, labels):\n",
    "    assert low_dim_embs.shape[0] >= len(labels), \"More labels than embeddings\"\n",
    "    pylab.figure(figsize=(18, 18))  # in inches\n",
    "    for i, label in enumerate(labels):\n",
    "        x, y = low_dim_embs[i, :]\n",
    "        pylab.scatter(x, y)\n",
    "        pylab.annotate(label,\n",
    "                     xy=(x, y),\n",
    "                     xytext=(5, 2),\n",
    "                     textcoords='offset points',\n",
    "                     ha='right',\n",
    "                     va='bottom')\n",
    "\n",
    "    pylab.show()\n",
    "    \n",
    "from sklearn.manifold import TSNE\n",
    "\n",
    "tsne = TSNE(perplexity=30, n_components=2, init='pca', n_iter=5000)\n",
    "plot_only = 500\n",
    "low_dim_embs = tsne.fit_transform(final_embeddings[:plot_only, :])\n",
    "labels = [reverse_dictionary[i] for i in xrange(plot_only)]\n",
    "plot_with_labels(low_dim_embs, labels)"
   ]
  },
  {
   "cell_type": "code",
   "execution_count": null,
   "metadata": {
    "collapsed": true
   },
   "outputs": [],
   "source": []
  }
 ],
 "metadata": {
  "kernelspec": {
   "display_name": "Python 2",
   "language": "python",
   "name": "python2"
  },
  "language_info": {
   "codemirror_mode": {
    "name": "ipython",
    "version": 2
   },
   "file_extension": ".py",
   "mimetype": "text/x-python",
   "name": "python",
   "nbconvert_exporter": "python",
   "pygments_lexer": "ipython2",
   "version": "2.7.6"
  }
 },
 "nbformat": 4,
 "nbformat_minor": 0
}
